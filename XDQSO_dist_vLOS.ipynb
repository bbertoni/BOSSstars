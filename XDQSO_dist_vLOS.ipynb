{
 "cells": [
  {
   "cell_type": "code",
   "execution_count": 1,
   "metadata": {
    "collapsed": true
   },
   "outputs": [],
   "source": [
    "%matplotlib inline\n",
    "\n",
    "import numpy as np\n",
    "from matplotlib import pyplot as plt"
   ]
  },
  {
   "cell_type": "markdown",
   "metadata": {},
   "source": [
    "Get positions and colors from the data"
   ]
  },
  {
   "cell_type": "code",
   "execution_count": 2,
   "metadata": {
    "collapsed": true
   },
   "outputs": [],
   "source": [
    "lat,long,vLOS = [],[],[]"
   ]
  },
  {
   "cell_type": "code",
   "execution_count": 3,
   "metadata": {
    "collapsed": true
   },
   "outputs": [],
   "source": [
    "rmag,imag = [],[]"
   ]
  },
  {
   "cell_type": "code",
   "execution_count": 4,
   "metadata": {
    "collapsed": true
   },
   "outputs": [],
   "source": [
    "ext_r,ext_i = [],[]"
   ]
  },
  {
   "cell_type": "code",
   "execution_count": 5,
   "metadata": {
    "collapsed": true
   },
   "outputs": [],
   "source": [
    "chunk = []"
   ]
  },
  {
   "cell_type": "code",
   "execution_count": 6,
   "metadata": {
    "collapsed": false
   },
   "outputs": [],
   "source": [
    "with open(\"XDQSO_full_data.txt\",'r') as infile:\n",
    "    for line in infile:\n",
    "        params = line.split()\n",
    "        lat.append(float(params[1])) # rad\n",
    "        long.append(float(params[2])) # rad\n",
    "        vLOS.append(float(params[3])) # km/s\n",
    "        rmag.append(float(params[4]))\n",
    "        imag.append(float(params[5]))\n",
    "        ext_r.append(float(params[7]))\n",
    "        ext_i.append(float(params[8]))\n",
    "        chunk.append(float(params[9]))\n",
    "\n",
    "lat = np.array(lat)\n",
    "long = np.array(long)\n",
    "vLOS = np.array(vLOS)\n",
    "rmag = np.array(rmag)-np.array(ext_r)\n",
    "imag = np.array(imag)-np.array(ext_i)\n",
    "chunk = np.array(chunk)"
   ]
  },
  {
   "cell_type": "markdown",
   "metadata": {},
   "source": [
    "Calculate velocities in the galactocentric rest frame coordinate system: x direction points from the sun to the galactic center, z direction points north, and use right handed coordinates"
   ]
  },
  {
   "cell_type": "code",
   "execution_count": 7,
   "metadata": {
    "collapsed": false
   },
   "outputs": [],
   "source": [
    "# from arXiv:0912.3693 (velocity of sun wrt LSR):\n",
    "u = 11.1 # positive x direction\n",
    "v = 12.24 # positive y direction\n",
    "w = 7.5 # positive z direction\n",
    "\n",
    "vsun = 220.0 # positive y direction\n",
    "\n",
    "vrf = ( vLOS + vsun*np.sin(long)*np.cos(lat) + u*np.cos(long)*np.cos(lat) + v*np.sin(long)*np.cos(lat) + w*np.sin(lat) )"
   ]
  },
  {
   "cell_type": "code",
   "execution_count": 8,
   "metadata": {
    "collapsed": false
   },
   "outputs": [
    {
     "data": {
      "text/plain": [
       "0.89179788425564954"
      ]
     },
     "execution_count": 8,
     "metadata": {},
     "output_type": "execute_result"
    }
   ],
   "source": [
    "from numpy import sin\n",
    "sin(lat[0])"
   ]
  },
  {
   "cell_type": "markdown",
   "metadata": {},
   "source": [
    "Calculate the absolute magnitude from the r and i band colors using the bright normalization from http://iopscience.iop.org/article/10.1086/523619/pdf eqn. 1"
   ]
  }
 ],
 "metadata": {
  "kernelspec": {
   "display_name": "Python 3",
   "language": "python",
   "name": "python3"
  },
  "language_info": {
   "codemirror_mode": {
    "name": "ipython",
    "version": 3
   },
   "file_extension": ".py",
   "mimetype": "text/x-python",
   "name": "python",
   "nbconvert_exporter": "python",
   "pygments_lexer": "ipython3",
   "version": "3.5.2"
  }
 },
 "nbformat": 4,
 "nbformat_minor": 0
}
